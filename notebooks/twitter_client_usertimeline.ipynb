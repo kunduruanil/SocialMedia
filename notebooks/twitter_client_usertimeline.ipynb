{
 "cells": [
  {
   "cell_type": "code",
   "execution_count": 1,
   "metadata": {},
   "outputs": [],
   "source": [
    "import os \n",
    "import sys \n",
    "import json\n",
    "from tweepy import API \n",
    "from tweepy import OAuthHandler \n",
    "from twitter_nlp_toolkit.twitter_listener import twitter_listener\n",
    " \n",
    "def get_twitter_auth():\n",
    "    print('get_twitter_auth' )\n",
    "    \"\"\"Setup Twitter authentication.\n",
    "    Return: tweepy.OAuthHandler object\n",
    "    \"\"\"\n",
    "    with open('keys.key', 'r') as infile:\n",
    "        #print(infile)\n",
    "        credentials = json.load(infile)\n",
    "    try:\n",
    "        consumer_key = credentials['consumer_key']# api_key \n",
    "        consumer_secret = credentials['consumer_secret']# api_secret_key \n",
    "        access_token = credentials['access_token']# access_token \n",
    "        access_secret = credentials['access_secret']# access_token_secret \n",
    "        #print(credentials)\n",
    "    except KeyError:\n",
    "        sys.stderr.write(\"TWITTER_* environment variables not set\\n\")\n",
    "        sys.exit(1)\n",
    "    auth = OAuthHandler(consumer_key, consumer_secret)\n",
    "    auth.set_access_token(access_token, access_secret)\n",
    "    return auth \n",
    " \n",
    "def get_twitter_client():\n",
    "    print('Enter get_twitter_client' )\n",
    "    \"\"\"Setup Twitter API client.\n",
    "    Return: tweepy.API object\n",
    "    \"\"\"\n",
    "    auth = get_twitter_auth()\n",
    "    client = API(auth)\n",
    "    return client \n",
    "\n",
    "def get_user_timeline(users):\n",
    "    for user in users:\n",
    "        try:\n",
    "            client = get_twitter_client()\n",
    "            fname = \"user_timeline_{}.jsonl\".format(user)\n",
    "            with open(fname, 'w') as f:\n",
    "                for page in Cursor(client.user_timeline, screen_name=user,\n",
    "                               count=200).pages(16):\n",
    "                    for status in page:\n",
    "                        f.write(json.dumps(status._json)+\"\\n\")\n",
    "        #TBD - write a code to dump json file into DB........ \n",
    "        ## Twitter has limit of 3200 tweets, chk for duplicate before inserting into DB\n",
    "        except KeyError:\n",
    "            sys.stderr.write(\"TWITTER_* environment variables not set\\n\")\n"
   ]
  },
  {
   "cell_type": "code",
   "execution_count": 11,
   "metadata": {},
   "outputs": [
    {
     "name": "stdout",
     "output_type": "stream",
     "text": [
      "{'consumer_key': '51jOp6UlIvydD1am1KJ7zvkK5', 'consumer_secret': '4E3GeQBN5LZ87S7u3hQ8ZkhmccwNwRgqIqkJOfHsyKLrFJ64oS', 'access_token': '763990148438564865-TR9tD2cTB1quUALEouePJfmXyPJBdUx', 'access_secret': 'dbUPxI0QJ5Zor0lY0Doi3lLFNJtVkRedJnjkQwgajnOO9', 'consumer_key1': '51jOp6UlIvydD1am1KJ7zvkK5', 'consumer_secret1': '4E3GeQBN5LZ87S7u3hQ8ZkhmccwNwRgqIqkJOfHsyKLrFJ64oS', 'access_token1': '763990148438564865-TR9tD2cTB1quUALEouePJfmXyPJBdUx', 'access_secret1': 'dbUPxI0QJ5Zor0lY0Doi3lLFNJtVkRedJnjkQwgajnOO9'}\n"
     ]
    },
    {
     "data": {
      "text/plain": [
       "<tweepy.api.API at 0x1d2d9625308>"
      ]
     },
     "execution_count": 11,
     "metadata": {},
     "output_type": "execute_result"
    }
   ],
   "source": [
    "get_twitter_client()"
   ]
  },
  {
   "cell_type": "code",
   "execution_count": null,
   "metadata": {},
   "outputs": [],
   "source": []
  }
 ],
 "metadata": {
  "kernelspec": {
   "display_name": "Python 3",
   "language": "python",
   "name": "python3"
  },
  "language_info": {
   "codemirror_mode": {
    "name": "ipython",
    "version": 3
   },
   "file_extension": ".py",
   "mimetype": "text/x-python",
   "name": "python",
   "nbconvert_exporter": "python",
   "pygments_lexer": "ipython3",
   "version": "3.7.4"
  }
 },
 "nbformat": 4,
 "nbformat_minor": 4
}
